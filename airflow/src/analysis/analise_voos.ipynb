{
 "cells": [
  {
   "cell_type": "markdown",
   "id": "538ebb32",
   "metadata": {},
   "source": [
    "#### Notebook para Análise dos Vôos "
   ]
  },
  {
   "cell_type": "markdown",
   "id": "6d39f27b",
   "metadata": {},
   "source": [
    "1. Em quais aeroportos cada sala deve ser construída e por quê?"
   ]
  },
  {
   "cell_type": "markdown",
   "id": "5576b330",
   "metadata": {},
   "source": [
    "2. Há relação entre os atrasos e os pilotos?"
   ]
  }
 ],
 "metadata": {
  "language_info": {
   "name": "python"
  }
 },
 "nbformat": 4,
 "nbformat_minor": 5
}
